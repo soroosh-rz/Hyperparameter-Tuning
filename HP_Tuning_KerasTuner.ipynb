{
  "nbformat": 4,
  "nbformat_minor": 0,
  "metadata": {
    "colab": {
      "name": "HP Tuning - KerasTuner.ipynb",
      "provenance": [],
      "collapsed_sections": []
    },
    "kernelspec": {
      "name": "python3",
      "display_name": "Python 3"
    },
    "language_info": {
      "name": "python"
    },
    "accelerator": "GPU"
  },
  "cells": [
    {
      "cell_type": "code",
      "metadata": {
        "colab": {
          "base_uri": "https://localhost:8080/"
        },
        "id": "oZmfUWyjC7Bn",
        "outputId": "9c65dc71-1b44-4f89-ad58-04ebe2736f03"
      },
      "source": [
        "pip install keras-tuner"
      ],
      "execution_count": 3,
      "outputs": [
        {
          "output_type": "stream",
          "text": [
            "Collecting keras-tuner\n",
            "\u001b[?25l  Downloading https://files.pythonhosted.org/packages/20/ec/1ef246787174b1e2bb591c95f29d3c1310070cad877824f907faba3dade9/keras-tuner-1.0.2.tar.gz (62kB)\n",
            "\r\u001b[K     |█████▏                          | 10kB 21.2MB/s eta 0:00:01\r\u001b[K     |██████████▍                     | 20kB 27.3MB/s eta 0:00:01\r\u001b[K     |███████████████▋                | 30kB 32.3MB/s eta 0:00:01\r\u001b[K     |████████████████████▉           | 40kB 29.8MB/s eta 0:00:01\r\u001b[K     |██████████████████████████      | 51kB 25.9MB/s eta 0:00:01\r\u001b[K     |███████████████████████████████▎| 61kB 28.3MB/s eta 0:00:01\r\u001b[K     |████████████████████████████████| 71kB 9.1MB/s \n",
            "\u001b[?25hRequirement already satisfied: packaging in /usr/local/lib/python3.7/dist-packages (from keras-tuner) (20.9)\n",
            "Requirement already satisfied: future in /usr/local/lib/python3.7/dist-packages (from keras-tuner) (0.16.0)\n",
            "Requirement already satisfied: numpy in /usr/local/lib/python3.7/dist-packages (from keras-tuner) (1.19.5)\n",
            "Requirement already satisfied: tabulate in /usr/local/lib/python3.7/dist-packages (from keras-tuner) (0.8.9)\n",
            "Collecting terminaltables\n",
            "  Downloading https://files.pythonhosted.org/packages/9b/c4/4a21174f32f8a7e1104798c445dacdc1d4df86f2f26722767034e4de4bff/terminaltables-3.1.0.tar.gz\n",
            "Collecting colorama\n",
            "  Downloading https://files.pythonhosted.org/packages/44/98/5b86278fbbf250d239ae0ecb724f8572af1c91f4a11edf4d36a206189440/colorama-0.4.4-py2.py3-none-any.whl\n",
            "Requirement already satisfied: tqdm in /usr/local/lib/python3.7/dist-packages (from keras-tuner) (4.41.1)\n",
            "Requirement already satisfied: requests in /usr/local/lib/python3.7/dist-packages (from keras-tuner) (2.23.0)\n",
            "Requirement already satisfied: scipy in /usr/local/lib/python3.7/dist-packages (from keras-tuner) (1.4.1)\n",
            "Requirement already satisfied: scikit-learn in /usr/local/lib/python3.7/dist-packages (from keras-tuner) (0.22.2.post1)\n",
            "Requirement already satisfied: pyparsing>=2.0.2 in /usr/local/lib/python3.7/dist-packages (from packaging->keras-tuner) (2.4.7)\n",
            "Requirement already satisfied: idna<3,>=2.5 in /usr/local/lib/python3.7/dist-packages (from requests->keras-tuner) (2.10)\n",
            "Requirement already satisfied: chardet<4,>=3.0.2 in /usr/local/lib/python3.7/dist-packages (from requests->keras-tuner) (3.0.4)\n",
            "Requirement already satisfied: urllib3!=1.25.0,!=1.25.1,<1.26,>=1.21.1 in /usr/local/lib/python3.7/dist-packages (from requests->keras-tuner) (1.24.3)\n",
            "Requirement already satisfied: certifi>=2017.4.17 in /usr/local/lib/python3.7/dist-packages (from requests->keras-tuner) (2020.12.5)\n",
            "Requirement already satisfied: joblib>=0.11 in /usr/local/lib/python3.7/dist-packages (from scikit-learn->keras-tuner) (1.0.1)\n",
            "Building wheels for collected packages: keras-tuner, terminaltables\n",
            "  Building wheel for keras-tuner (setup.py) ... \u001b[?25l\u001b[?25hdone\n",
            "  Created wheel for keras-tuner: filename=keras_tuner-1.0.2-cp37-none-any.whl size=78938 sha256=38b946b64c063f6dd4aec9afbceb2d262d7e7e0c246e8c3584ac59583b5e77ec\n",
            "  Stored in directory: /root/.cache/pip/wheels/bb/a1/8a/7c3de0efb3707a1701b36ebbfdbc4e67aedf6d4943a1f463d6\n",
            "  Building wheel for terminaltables (setup.py) ... \u001b[?25l\u001b[?25hdone\n",
            "  Created wheel for terminaltables: filename=terminaltables-3.1.0-cp37-none-any.whl size=15356 sha256=995b500fcbb1a4496b3bc00b7d039799eef3c3a99a6154cffe526a9ca129b9b5\n",
            "  Stored in directory: /root/.cache/pip/wheels/30/6b/50/6c75775b681fb36cdfac7f19799888ef9d8813aff9e379663e\n",
            "Successfully built keras-tuner terminaltables\n",
            "Installing collected packages: terminaltables, colorama, keras-tuner\n",
            "Successfully installed colorama-0.4.4 keras-tuner-1.0.2 terminaltables-3.1.0\n"
          ],
          "name": "stdout"
        }
      ]
    },
    {
      "cell_type": "code",
      "metadata": {
        "colab": {
          "base_uri": "https://localhost:8080/"
        },
        "id": "d5lWfT-ZDfO6",
        "outputId": "77c142a8-dbea-4740-9ce2-d7384f837dcb"
      },
      "source": [
        "from tensorflow.keras.datasets import cifar10\n",
        "\n",
        "# Load data\n",
        "(x_train, y_train), (x_test, y_test) = cifar10.load_data()\n",
        "\n",
        "# Pre-processing\n",
        "x_train = x_train.astype('float32') / 255.\n",
        "x_test = x_test.astype('float32') / 255.\n"
      ],
      "execution_count": 4,
      "outputs": [
        {
          "output_type": "stream",
          "text": [
            "Downloading data from https://www.cs.toronto.edu/~kriz/cifar-10-python.tar.gz\n",
            "170500096/170498071 [==============================] - 2s 0us/step\n"
          ],
          "name": "stdout"
        }
      ]
    },
    {
      "cell_type": "code",
      "metadata": {
        "id": "C55MvISiDrwJ"
      },
      "source": [
        "# Baseline Model definition\n",
        "\n",
        "from tensorflow import keras\n",
        "from tensorflow.keras.layers import (\n",
        "    Conv2D,\n",
        "    Dense,\n",
        "    Dropout,\n",
        "    Flatten,\n",
        "    MaxPooling2D\n",
        ")\n",
        "\n",
        "INPUT_SHAPE = (32, 32, 3)\n",
        "NUM_CLASSES = 10\n",
        "N_EPOCH_SEARCH = 40\n",
        "\n",
        "model = keras.Sequential()\n",
        "model.add(\n",
        "    Conv2D(\n",
        "        filters=16,\n",
        "        kernel_size=3,\n",
        "        activation='relu',\n",
        "        input_shape=INPUT_SHAPE\n",
        "    )\n",
        ")\n",
        "model.add(Conv2D(16, 3, activation='relu'))\n",
        "model.add(MaxPooling2D(pool_size=2))\n",
        "model.add(Dropout(rate=0.25))\n",
        "model.add(Conv2D(32, 3, activation='relu'))\n",
        "model.add(Conv2D(64, 3, activation='relu'))\n",
        "model.add(MaxPooling2D(pool_size=2))\n",
        "model.add(Dropout(rate=0.25))\n",
        "model.add(Flatten())\n",
        "model.add(Dense(units=128, activation='relu'))\n",
        "model.add(Dropout(rate=0.25))\n",
        "model.add(Dense(NUM_CLASSES, activation='softmax'))\n",
        "\n",
        "model.compile(\n",
        "    optimizer=keras.optimizers.Adam(1e-3),\n",
        "    loss='sparse_categorical_crossentropy',\n",
        "    metrics=['accuracy']\n",
        ")"
      ],
      "execution_count": 8,
      "outputs": []
    },
    {
      "cell_type": "code",
      "metadata": {
        "colab": {
          "base_uri": "https://localhost:8080/"
        },
        "id": "U3bLpEIJGSXk",
        "outputId": "c4de0241-092d-43c1-e473-ec152d5ff1b9"
      },
      "source": [
        "model.fit(x_train, y_train, epochs=N_EPOCH_SEARCH, validation_split=0.1)"
      ],
      "execution_count": 7,
      "outputs": [
        {
          "output_type": "stream",
          "text": [
            "Epoch 1/40\n",
            "1407/1407 [==============================] - 38s 5ms/step - loss: 1.6078 - accuracy: 0.4086 - val_loss: 1.2999 - val_accuracy: 0.5418\n",
            "Epoch 2/40\n",
            "1407/1407 [==============================] - 6s 4ms/step - loss: 1.2713 - accuracy: 0.5432 - val_loss: 1.0963 - val_accuracy: 0.6156\n",
            "Epoch 3/40\n",
            "1407/1407 [==============================] - 6s 4ms/step - loss: 1.1389 - accuracy: 0.5954 - val_loss: 1.0417 - val_accuracy: 0.6256\n",
            "Epoch 4/40\n",
            "1407/1407 [==============================] - 6s 4ms/step - loss: 1.0528 - accuracy: 0.6276 - val_loss: 0.9757 - val_accuracy: 0.6512\n",
            "Epoch 5/40\n",
            "1407/1407 [==============================] - 6s 4ms/step - loss: 0.9946 - accuracy: 0.6453 - val_loss: 0.9366 - val_accuracy: 0.6666\n",
            "Epoch 6/40\n",
            "1407/1407 [==============================] - 6s 4ms/step - loss: 0.9467 - accuracy: 0.6654 - val_loss: 0.8583 - val_accuracy: 0.7010\n",
            "Epoch 7/40\n",
            "1407/1407 [==============================] - 6s 4ms/step - loss: 0.9097 - accuracy: 0.6794 - val_loss: 0.7881 - val_accuracy: 0.7300\n",
            "Epoch 8/40\n",
            "1407/1407 [==============================] - 6s 4ms/step - loss: 0.8709 - accuracy: 0.6939 - val_loss: 0.7965 - val_accuracy: 0.7242\n",
            "Epoch 9/40\n",
            "1407/1407 [==============================] - 6s 4ms/step - loss: 0.8478 - accuracy: 0.7010 - val_loss: 0.7624 - val_accuracy: 0.7368\n",
            "Epoch 10/40\n",
            "1407/1407 [==============================] - 6s 4ms/step - loss: 0.8197 - accuracy: 0.7090 - val_loss: 0.7725 - val_accuracy: 0.7280\n",
            "Epoch 11/40\n",
            "1407/1407 [==============================] - 6s 4ms/step - loss: 0.7954 - accuracy: 0.7193 - val_loss: 0.7565 - val_accuracy: 0.7418\n",
            "Epoch 12/40\n",
            "1407/1407 [==============================] - 6s 4ms/step - loss: 0.7802 - accuracy: 0.7220 - val_loss: 0.7276 - val_accuracy: 0.7566\n",
            "Epoch 13/40\n",
            "1407/1407 [==============================] - 6s 4ms/step - loss: 0.7561 - accuracy: 0.7316 - val_loss: 0.7436 - val_accuracy: 0.7386\n",
            "Epoch 14/40\n",
            "1407/1407 [==============================] - 6s 4ms/step - loss: 0.7451 - accuracy: 0.7339 - val_loss: 0.7540 - val_accuracy: 0.7428\n",
            "Epoch 15/40\n",
            "1407/1407 [==============================] - 6s 4ms/step - loss: 0.7310 - accuracy: 0.7402 - val_loss: 0.7384 - val_accuracy: 0.7414\n",
            "Epoch 16/40\n",
            "1407/1407 [==============================] - 6s 4ms/step - loss: 0.7196 - accuracy: 0.7453 - val_loss: 0.7155 - val_accuracy: 0.7596\n",
            "Epoch 17/40\n",
            "1407/1407 [==============================] - 6s 4ms/step - loss: 0.7040 - accuracy: 0.7515 - val_loss: 0.7319 - val_accuracy: 0.7522\n",
            "Epoch 18/40\n",
            "1407/1407 [==============================] - 6s 4ms/step - loss: 0.6921 - accuracy: 0.7545 - val_loss: 0.7101 - val_accuracy: 0.7566\n",
            "Epoch 19/40\n",
            "1407/1407 [==============================] - 6s 4ms/step - loss: 0.6854 - accuracy: 0.7569 - val_loss: 0.7071 - val_accuracy: 0.7604\n",
            "Epoch 20/40\n",
            "1407/1407 [==============================] - 6s 4ms/step - loss: 0.6759 - accuracy: 0.7602 - val_loss: 0.7139 - val_accuracy: 0.7544\n",
            "Epoch 21/40\n",
            "1407/1407 [==============================] - 6s 4ms/step - loss: 0.6691 - accuracy: 0.7632 - val_loss: 0.6971 - val_accuracy: 0.7648\n",
            "Epoch 22/40\n",
            "1407/1407 [==============================] - 6s 4ms/step - loss: 0.6567 - accuracy: 0.7664 - val_loss: 0.7369 - val_accuracy: 0.7472\n",
            "Epoch 23/40\n",
            "1407/1407 [==============================] - 6s 4ms/step - loss: 0.6452 - accuracy: 0.7726 - val_loss: 0.7132 - val_accuracy: 0.7656\n",
            "Epoch 24/40\n",
            "1407/1407 [==============================] - 6s 4ms/step - loss: 0.6485 - accuracy: 0.7722 - val_loss: 0.7201 - val_accuracy: 0.7614\n",
            "Epoch 25/40\n",
            "1407/1407 [==============================] - 7s 5ms/step - loss: 0.6364 - accuracy: 0.7726 - val_loss: 0.6984 - val_accuracy: 0.7648\n",
            "Epoch 26/40\n",
            "1407/1407 [==============================] - 6s 5ms/step - loss: 0.6330 - accuracy: 0.7751 - val_loss: 0.7109 - val_accuracy: 0.7618\n",
            "Epoch 27/40\n",
            "1407/1407 [==============================] - 6s 4ms/step - loss: 0.6229 - accuracy: 0.7776 - val_loss: 0.6935 - val_accuracy: 0.7680\n",
            "Epoch 28/40\n",
            "1407/1407 [==============================] - 6s 4ms/step - loss: 0.6199 - accuracy: 0.7778 - val_loss: 0.7344 - val_accuracy: 0.7618\n",
            "Epoch 29/40\n",
            "1407/1407 [==============================] - 6s 4ms/step - loss: 0.6069 - accuracy: 0.7816 - val_loss: 0.7099 - val_accuracy: 0.7672\n",
            "Epoch 30/40\n",
            "1407/1407 [==============================] - 6s 4ms/step - loss: 0.6095 - accuracy: 0.7833 - val_loss: 0.6827 - val_accuracy: 0.7646\n",
            "Epoch 31/40\n",
            "1407/1407 [==============================] - 6s 4ms/step - loss: 0.5959 - accuracy: 0.7860 - val_loss: 0.7438 - val_accuracy: 0.7544\n",
            "Epoch 32/40\n",
            "1407/1407 [==============================] - 6s 4ms/step - loss: 0.6011 - accuracy: 0.7860 - val_loss: 0.6950 - val_accuracy: 0.7620\n",
            "Epoch 33/40\n",
            "1407/1407 [==============================] - 6s 4ms/step - loss: 0.5896 - accuracy: 0.7898 - val_loss: 0.7033 - val_accuracy: 0.7634\n",
            "Epoch 34/40\n",
            "1407/1407 [==============================] - 6s 4ms/step - loss: 0.5961 - accuracy: 0.7863 - val_loss: 0.6995 - val_accuracy: 0.7650\n",
            "Epoch 35/40\n",
            "1407/1407 [==============================] - 6s 4ms/step - loss: 0.5838 - accuracy: 0.7904 - val_loss: 0.6707 - val_accuracy: 0.7752\n",
            "Epoch 36/40\n",
            "1407/1407 [==============================] - 6s 4ms/step - loss: 0.5887 - accuracy: 0.7921 - val_loss: 0.6772 - val_accuracy: 0.7758\n",
            "Epoch 37/40\n",
            "1407/1407 [==============================] - 6s 4ms/step - loss: 0.5771 - accuracy: 0.7917 - val_loss: 0.7104 - val_accuracy: 0.7600\n",
            "Epoch 38/40\n",
            "1407/1407 [==============================] - 6s 4ms/step - loss: 0.5734 - accuracy: 0.7960 - val_loss: 0.7105 - val_accuracy: 0.7658\n",
            "Epoch 39/40\n",
            "1407/1407 [==============================] - 6s 4ms/step - loss: 0.5707 - accuracy: 0.7974 - val_loss: 0.6994 - val_accuracy: 0.7708\n",
            "Epoch 40/40\n",
            "1407/1407 [==============================] - 6s 4ms/step - loss: 0.5718 - accuracy: 0.7941 - val_loss: 0.6792 - val_accuracy: 0.7694\n"
          ],
          "name": "stdout"
        },
        {
          "output_type": "execute_result",
          "data": {
            "text/plain": [
              "<tensorflow.python.keras.callbacks.History at 0x7f1c901e8750>"
            ]
          },
          "metadata": {
            "tags": []
          },
          "execution_count": 7
        }
      ]
    },
    {
      "cell_type": "code",
      "metadata": {
        "colab": {
          "base_uri": "https://localhost:8080/"
        },
        "id": "PmhDQ41hGlbz",
        "outputId": "4f26a187-3015-4472-9f4e-bcc7bbe86606"
      },
      "source": [
        "loss, accuracy = model.evaluate(x_test, y_test)\n",
        "print(f\"loss: {loss}, accuracy: {accuracy}\")"
      ],
      "execution_count": 12,
      "outputs": [
        {
          "output_type": "stream",
          "text": [
            "313/313 [==============================] - 1s 3ms/step - loss: 2.3046 - accuracy: 0.1039\n",
            "loss: 2.304551601409912, accuracy: 0.1039000004529953\n"
          ],
          "name": "stdout"
        }
      ]
    },
    {
      "cell_type": "code",
      "metadata": {
        "id": "HD1sbox0I51s"
      },
      "source": [
        "# Keras Tuner Hypermodels\n",
        "\n",
        "from kerastuner import HyperModel\n",
        "\n",
        "\n",
        "class CNNHyperModel(HyperModel):\n",
        "    def __init__(self, input_shape, num_classes):\n",
        "        self.input_shape = input_shape\n",
        "        self.num_classes = num_classes\n",
        "\n",
        "    def build(self, hp):\n",
        "        model = keras.Sequential()\n",
        "        model.add(\n",
        "            Conv2D(\n",
        "                filters=16,\n",
        "                kernel_size=3,\n",
        "                activation='relu',\n",
        "                input_shape=self.input_shape\n",
        "            )\n",
        "        )\n",
        "        model.add(\n",
        "            Conv2D(\n",
        "                filters=16,\n",
        "                activation='relu',\n",
        "                kernel_size=3\n",
        "            )\n",
        "        )\n",
        "        model.add(MaxPooling2D(pool_size=2))\n",
        "        model.add(\n",
        "            Dropout(rate=hp.Float(\n",
        "                'dropout_1',\n",
        "                min_value=0.0,\n",
        "                max_value=0.5,\n",
        "                default=0.25,\n",
        "                step=0.05,\n",
        "            ))\n",
        "        )\n",
        "        model.add(\n",
        "            Conv2D(\n",
        "                filters=32,\n",
        "                kernel_size=3,\n",
        "                activation='relu'\n",
        "            )\n",
        "        )\n",
        "        model.add(\n",
        "            Conv2D(\n",
        "                filters=hp.Choice(\n",
        "                    'num_filters',\n",
        "                    values=[32, 64],\n",
        "                    default=64,\n",
        "                ),\n",
        "                activation='relu',\n",
        "                kernel_size=3\n",
        "            )\n",
        "        )\n",
        "        model.add(MaxPooling2D(pool_size=2))\n",
        "        model.add(\n",
        "            Dropout(rate=hp.Float(\n",
        "                'dropout_2',\n",
        "                min_value=0.0,\n",
        "                max_value=0.5,\n",
        "                default=0.25,\n",
        "                step=0.05,\n",
        "            ))\n",
        "        )\n",
        "        model.add(Flatten())\n",
        "        model.add(\n",
        "            Dense(\n",
        "                units=hp.Int(\n",
        "                    'units',\n",
        "                    min_value=32,\n",
        "                    max_value=512,\n",
        "                    step=32,\n",
        "                    default=128\n",
        "                ),\n",
        "                activation=hp.Choice(\n",
        "                    'dense_activation',\n",
        "                    values=['relu', 'tanh', 'sigmoid'],\n",
        "                    default='relu'\n",
        "                )\n",
        "            )\n",
        "        )\n",
        "        model.add(\n",
        "            Dropout(\n",
        "                rate=hp.Float(\n",
        "                    'dropout_3',\n",
        "                    min_value=0.0,\n",
        "                    max_value=0.5,\n",
        "                    default=0.25,\n",
        "                    step=0.05\n",
        "                )\n",
        "            )\n",
        "        )\n",
        "        model.add(Dense(self.num_classes, activation='softmax'))\n",
        "\n",
        "        model.compile(\n",
        "            optimizer=keras.optimizers.Adam(\n",
        "                hp.Float(\n",
        "                    'learning_rate',\n",
        "                    min_value=1e-4,\n",
        "                    max_value=1e-2,\n",
        "                    sampling='LOG',\n",
        "                    default=1e-3\n",
        "                )\n",
        "            ),\n",
        "            loss='sparse_categorical_crossentropy',\n",
        "            metrics=['accuracy']\n",
        "        )\n",
        "        return model\n",
        "\n",
        "hypermodel = CNNHyperModel(input_shape=INPUT_SHAPE, num_classes=NUM_CLASSES)"
      ],
      "execution_count": 14,
      "outputs": []
    },
    {
      "cell_type": "code",
      "metadata": {
        "id": "9V4lMXjDJstP"
      },
      "source": [
        "# Random Search HP Tuning\n",
        "from kerastuner.tuners import RandomSearch\n",
        "\n",
        "NUM_CLASSES = 10  # cifar10 number of classes\n",
        "INPUT_SHAPE = (32, 32, 3)  # cifar10 images input shape\n",
        "SEED = 1\n",
        "MAX_TRIALS = 20\n",
        "EXECUTION_PER_TRIAL = 2\n",
        "\n",
        "hypermodel = CNNHyperModel(input_shape=INPUT_SHAPE, num_classes=NUM_CLASSES)\n",
        "\n",
        "tuner_rs = RandomSearch(\n",
        "    hypermodel,\n",
        "    objective='val_accuracy',\n",
        "    seed=SEED,\n",
        "    max_trials=MAX_TRIALS,\n",
        "    executions_per_trial=EXECUTION_PER_TRIAL,\n",
        "    directory='random_search',\n",
        "    project_name='cifar10'\n",
        ")"
      ],
      "execution_count": 19,
      "outputs": []
    },
    {
      "cell_type": "code",
      "metadata": {
        "colab": {
          "base_uri": "https://localhost:8080/"
        },
        "id": "5Cghhb7ZLtbC",
        "outputId": "e2aaa3ce-3537-48af-dd96-82f95f29ec73"
      },
      "source": [
        "# Hyperband\n",
        "from kerastuner.tuners import Hyperband\n",
        "\n",
        "HYPERBAND_MAX_EPOCHS = 40\n",
        "\n",
        "tuner = Hyperband(\n",
        "    hypermodel,\n",
        "    max_epochs=HYPERBAND_MAX_EPOCHS,\n",
        "    objective='val_accuracy',\n",
        "    seed=SEED,\n",
        "    executions_per_trial=EXECUTION_PER_TRIAL,\n",
        "    directory='hyperband',\n",
        "    project_name='cifar10'\n",
        ")\n"
      ],
      "execution_count": 20,
      "outputs": [
        {
          "output_type": "stream",
          "text": [
            "INFO:tensorflow:Reloading Oracle from existing project hyperband/cifar10/oracle.json\n",
            "INFO:tensorflow:Reloading Tuner from hyperband/cifar10/tuner0.json\n"
          ],
          "name": "stdout"
        }
      ]
    },
    {
      "cell_type": "code",
      "metadata": {
        "colab": {
          "base_uri": "https://localhost:8080/"
        },
        "id": "gC067mRLMUWt",
        "outputId": "f76370c5-ab3b-44ef-a822-a2dfe00f94b8"
      },
      "source": [
        "tuner_rs.search_space_summary()"
      ],
      "execution_count": 21,
      "outputs": [
        {
          "output_type": "stream",
          "text": [
            "Search space summary\n",
            "Default search space size: 7\n",
            "dropout_1 (Float)\n",
            "{'default': 0.25, 'conditions': [], 'min_value': 0.0, 'max_value': 0.5, 'step': 0.05, 'sampling': None}\n",
            "num_filters (Choice)\n",
            "{'default': 64, 'conditions': [], 'values': [32, 64], 'ordered': True}\n",
            "dropout_2 (Float)\n",
            "{'default': 0.25, 'conditions': [], 'min_value': 0.0, 'max_value': 0.5, 'step': 0.05, 'sampling': None}\n",
            "units (Int)\n",
            "{'default': 128, 'conditions': [], 'min_value': 32, 'max_value': 512, 'step': 32, 'sampling': None}\n",
            "dense_activation (Choice)\n",
            "{'default': 'relu', 'conditions': [], 'values': ['relu', 'tanh', 'sigmoid'], 'ordered': False}\n",
            "dropout_3 (Float)\n",
            "{'default': 0.25, 'conditions': [], 'min_value': 0.0, 'max_value': 0.5, 'step': 0.05, 'sampling': None}\n",
            "learning_rate (Float)\n",
            "{'default': 0.001, 'conditions': [], 'min_value': 0.0001, 'max_value': 0.01, 'step': None, 'sampling': 'log'}\n"
          ],
          "name": "stdout"
        }
      ]
    },
    {
      "cell_type": "code",
      "metadata": {
        "colab": {
          "base_uri": "https://localhost:8080/"
        },
        "id": "e_WaWkJLMsYL",
        "outputId": "66f005a6-ef09-4a28-e78c-4e8ea154562d"
      },
      "source": [
        "N_EPOCH_SEARCH = 40\n",
        "\n",
        "tuner_rs.search(x_train, y_train, epochs=N_EPOCH_SEARCH, validation_split=0.1)"
      ],
      "execution_count": null,
      "outputs": [
        {
          "output_type": "stream",
          "text": [
            "Trial 19 Complete [00h 08m 37s]\n",
            "val_accuracy: 0.7618999779224396\n",
            "\n",
            "Best val_accuracy So Far: 0.7947999835014343\n",
            "Total elapsed time: 02h 42m 36s\n",
            "\n",
            "Search: Running Trial #20\n",
            "\n",
            "Hyperparameter    |Value             |Best Value So Far \n",
            "dropout_1         |0.25              |0.2               \n",
            "num_filters       |64                |64                \n",
            "dropout_2         |0.3               |0.25              \n",
            "units             |64                |384               \n",
            "dense_activation  |relu              |tanh              \n",
            "dropout_3         |0                 |0.1               \n",
            "learning_rate     |0.0034929         |0.00051617        \n",
            "\n",
            "Epoch 1/40\n",
            "1407/1407 [==============================] - 7s 5ms/step - loss: 1.6829 - accuracy: 0.3763 - val_loss: 1.5379 - val_accuracy: 0.4556\n",
            "Epoch 2/40\n",
            "1407/1407 [==============================] - 6s 5ms/step - loss: 1.3842 - accuracy: 0.4996 - val_loss: 1.2589 - val_accuracy: 0.5526\n",
            "Epoch 3/40\n",
            "1407/1407 [==============================] - 7s 5ms/step - loss: 1.2743 - accuracy: 0.5433 - val_loss: 1.1253 - val_accuracy: 0.6000\n",
            "Epoch 4/40\n",
            "1407/1407 [==============================] - 6s 5ms/step - loss: 1.2127 - accuracy: 0.5696 - val_loss: 1.1555 - val_accuracy: 0.5926\n",
            "Epoch 5/40\n",
            "1407/1407 [==============================] - 6s 4ms/step - loss: 1.1704 - accuracy: 0.5839 - val_loss: 1.0671 - val_accuracy: 0.6244\n",
            "Epoch 6/40\n",
            "1407/1407 [==============================] - 6s 4ms/step - loss: 1.1309 - accuracy: 0.5984 - val_loss: 1.0375 - val_accuracy: 0.6362\n",
            "Epoch 7/40\n",
            "1407/1407 [==============================] - 6s 5ms/step - loss: 1.1045 - accuracy: 0.6112 - val_loss: 1.0309 - val_accuracy: 0.6412\n",
            "Epoch 8/40\n",
            "1407/1407 [==============================] - 6s 4ms/step - loss: 1.0851 - accuracy: 0.6164 - val_loss: 1.0705 - val_accuracy: 0.6308\n",
            "Epoch 9/40\n",
            "1407/1407 [==============================] - 6s 4ms/step - loss: 1.0630 - accuracy: 0.6267 - val_loss: 1.0248 - val_accuracy: 0.6470\n",
            "Epoch 10/40\n",
            "1407/1407 [==============================] - 7s 5ms/step - loss: 1.0493 - accuracy: 0.6320 - val_loss: 0.9520 - val_accuracy: 0.6716\n",
            "Epoch 11/40\n",
            "1407/1407 [==============================] - 6s 5ms/step - loss: 1.0303 - accuracy: 0.6381 - val_loss: 0.9834 - val_accuracy: 0.6520\n",
            "Epoch 12/40\n",
            "1407/1407 [==============================] - 6s 5ms/step - loss: 1.0240 - accuracy: 0.6404 - val_loss: 0.9506 - val_accuracy: 0.6728\n",
            "Epoch 13/40\n",
            "1407/1407 [==============================] - 6s 4ms/step - loss: 1.0139 - accuracy: 0.6437 - val_loss: 0.9580 - val_accuracy: 0.6706\n",
            "Epoch 14/40\n",
            "1407/1407 [==============================] - 6s 4ms/step - loss: 1.0149 - accuracy: 0.6465 - val_loss: 0.9211 - val_accuracy: 0.6762\n",
            "Epoch 15/40\n",
            "1407/1407 [==============================] - 6s 4ms/step - loss: 0.9958 - accuracy: 0.6514 - val_loss: 0.9861 - val_accuracy: 0.6526\n",
            "Epoch 16/40\n",
            "1407/1407 [==============================] - 6s 4ms/step - loss: 0.9903 - accuracy: 0.6566 - val_loss: 0.9098 - val_accuracy: 0.6850\n",
            "Epoch 17/40\n",
            "1407/1407 [==============================] - 6s 5ms/step - loss: 0.9905 - accuracy: 0.6532 - val_loss: 0.9202 - val_accuracy: 0.6754\n",
            "Epoch 18/40\n",
            "1407/1407 [==============================] - 6s 5ms/step - loss: 0.9769 - accuracy: 0.6593 - val_loss: 0.9351 - val_accuracy: 0.6742\n",
            "Epoch 19/40\n",
            " 588/1407 [===========>..................] - ETA: 3s - loss: 0.9769 - accuracy: 0.6593"
          ],
          "name": "stdout"
        }
      ]
    },
    {
      "cell_type": "code",
      "metadata": {
        "id": "MklZBkvGOPOE"
      },
      "source": [
        "# Show a summary of the search\n",
        "tuner.results_summary()\n",
        "\n",
        "# Retrieve the best model.\n",
        "best_model = tuner.get_best_models(num_models=1)[0]\n",
        "\n",
        "# Evaluate the best model.\n",
        "loss, accuracy = best_model.evaluate(x_test, y_test)"
      ],
      "execution_count": null,
      "outputs": []
    }
  ]
}